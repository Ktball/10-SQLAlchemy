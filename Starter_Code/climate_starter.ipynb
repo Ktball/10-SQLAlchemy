{
 "cells": [
  {
   "cell_type": "code",
   "execution_count": null,
   "metadata": {},
   "outputs": [],
   "source": [
    "%matplotlib inline\n",
    "from matplotlib import style\n",
    "style.use('fivethirtyeight')\n",
    "import matplotlib.pyplot as plt"
   ]
  },
  {
   "cell_type": "code",
   "execution_count": null,
   "metadata": {},
   "outputs": [],
   "source": [
    "import numpy as np\n",
    "import pandas as pd\n",
    "import datetime as dt"
   ]
  },
  {
   "cell_type": "markdown",
   "metadata": {},
   "source": [
    "# Reflect Tables into SQLAlchemy ORM"
   ]
  },
  {
   "cell_type": "code",
   "execution_count": null,
   "metadata": {},
   "outputs": [],
   "source": [
    "# Python SQL toolkit and Object Relational Mapper\n",
    "import sqlalchemy\n",
    "from sqlalchemy.ext.automap import automap_base\n",
    "from sqlalchemy.orm import Session\n",
    "from sqlalchemy import create_engine, func"
   ]
  },
  {
   "cell_type": "code",
   "execution_count": null,
   "metadata": {},
   "outputs": [],
   "source": [
    "# create engine to hawaii.sqlite\n",
    "engine = create_engine(\"sqlite:///Resources/hawaii.sqlite\")"
   ]
  },
  {
   "cell_type": "code",
   "execution_count": null,
   "metadata": {},
   "outputs": [],
   "source": [
    "# reflect an existing database into a new model\n",
    "Base = automap_base()\n",
    "\n",
    "# reflect the tables\n",
    "Base.prepare(autoload_with=engine)"
   ]
  },
  {
   "cell_type": "code",
   "execution_count": null,
   "metadata": {},
   "outputs": [],
   "source": [
    "# View all of the classes that automap found\n",
    "Base.classes.keys()"
   ]
  },
  {
   "cell_type": "code",
   "execution_count": null,
   "metadata": {},
   "outputs": [],
   "source": [
    "# Save references to each table\n",
    "Measurement = Base.classes.measurement\n",
    "Station = Base.classes.station"
   ]
  },
  {
   "cell_type": "code",
   "execution_count": null,
   "metadata": {},
   "outputs": [],
   "source": [
    "# Create our session (link) from Python to the DB\n",
    "session = Session(engine)"
   ]
  },
  {
   "cell_type": "markdown",
   "metadata": {},
   "source": [
    "# Exploratory Precipitation Analysis"
   ]
  },
  {
   "cell_type": "code",
   "execution_count": null,
   "metadata": {},
   "outputs": [],
   "source": [
    "recent_date = session.query(func.max(Measurement.date)).scalar()\n",
    "recent_date"
   ]
  },
  {
   "cell_type": "code",
   "execution_count": null,
   "metadata": {},
   "outputs": [],
   "source": [
    "# Find the most recent date in the data set.\n",
    "recent_date = session.query(Measurement.date).order_by(Measurement.date.desc()).first()[0]\n",
    "print(recent_date)"
   ]
  },
  {
   "cell_type": "code",
   "execution_count": null,
   "metadata": {},
   "outputs": [],
   "source": [
    "# Calculate the date one year from the last date in data set.\n",
    "recent_date = dt.datetime.strptime(\"2017-08-23\", '%Y-%m-%d')\n",
    "last_12_months = recent_date - dt.timedelta(days=365)\n",
    "print(last_12_months)"
   ]
  },
  {
   "cell_type": "code",
   "execution_count": null,
   "metadata": {},
   "outputs": [],
   "source": [
    "#recent_date = dt.datetime.strptime(\"2017-08-23\", '%Y-%m-%d')\n",
    "#last_12_months = recent_date - dt.timedelta(days=365)\n",
    "\n",
    "# Perform a query to retrieve the data and precipitation scores\n",
    "#precipitation_data = session.query(Measurement.date, Measurement.prcp).\\\n",
    "    #filter(Measurement.date >= last_12_months).\\\n",
    "    #order_by(Measurement.date).all()\n",
    "\n",
    "\n",
    "# Save the query results as a Pandas DataFrame. Explicitly set the column names\n",
    "#precipitation = pd.DataFrame(precipitation_data, columns=['Date', 'Precipitation'])\n",
    "#precipitation.set_index('Date', inplace=True)\n",
    "#print(precipitation)"
   ]
  },
  {
   "cell_type": "code",
   "execution_count": null,
   "metadata": {},
   "outputs": [],
   "source": [
    " #Design a query to retrieve the last 12 months of precipitation data and plot the results. \n",
    "# Star#ting from the most recent data point in the database. \n",
    "\n",
    "# Find the most recent date in the data set.\n",
    "#recent_date = session.query(func.max(Measurement.date)).scalar()\n",
    "recent_date = session.query(Measurement.date).order_by(Measurement.date.desc()).first()[0]\n",
    "#print(recent_date)\n",
    "\n",
    "# Calculate the date one year from the last date in data set.\n",
    "recent_date = dt.datetime.strptime(\"2017-08-23\", '%Y-%m-%d')\n",
    "last_12_months = recent_date - dt.timedelta(days=366)\n",
    "\n",
    "# Perform a query to retrieve the data and precipitation scores\n",
    "precipitation_data = session.query(Measurement.date, Measurement.prcp).\\\n",
    "    filter(Measurement.date >= last_12_months).\\\n",
    "    order_by(Measurement.date).all()\n",
    "\n",
    "# Save the query results as a Pandas DataFrame. Explicitly set the column names\n",
    "precipitation = pd.DataFrame(precipitation_data, columns=['Date', 'Precipitation'])\n",
    "precipitation.set_index('Date', inplace=True)\n",
    "print(precipitation)\n",
    "\n",
    "# Sort the dataframe by date\n",
    "precipitation = precipitation.sort_index()"
   ]
  },
  {
   "cell_type": "code",
   "execution_count": null,
   "metadata": {},
   "outputs": [],
   "source": [
    " #Design a query to retrieve the last 12 months of precipitation data and plot the results. \n",
    "# Star#ting from the most recent data point in the database. \n",
    "\n",
    "# Find the most recent date in the data set.\n",
    "#recent_date = session.query(func.max(Measurement.date)).scalar()\n",
    "recent_date = session.query(Measurement.date).order_by(Measurement.date.desc()).first()[0]\n",
    "#print(recent_date)\n",
    "\n",
    "# Calculate the date one year from the last date in data set.\n",
    "recent_date = dt.datetime.strptime(\"2017-08-23\", '%Y-%m-%d')\n",
    "last_12_months = recent_date - dt.timedelta(days=365)\n",
    "\n",
    "# Perform a query to retrieve the data and precipitation scores\n",
    "precipitation_data = session.query(Measurement.date, Measurement.prcp).\\\n",
    "    filter(Measurement.date >= last_12_months).\\\n",
    "    order_by(Measurement.date).all()\n",
    "\n",
    "# Save the query results as a Pandas DataFrame. Explicitly set the column names\n",
    "precipitation = pd.DataFrame(precipitation_data, columns=['Date', 'Precipitation'])\n",
    "precipitation.set_index('Date', inplace=True)\n",
    "print(precipitation)\n",
    "\n",
    "# Sort the dataframe by date\n",
    "precipitation = precipitation.sort_index()\n",
    "\n",
    "# Use Pandas Plotting with Matplotlib to plot the data\n",
    "precipitation.plot(rot=90, figsize=(12,6), legend=False)\n",
    "plt.title(\"Precipitation Data (inches)\")\n",
    "plt.ylabel(\"Precipitation (inches)\")\n",
    "plt.xlabel(\"Date\")\n",
    "plt.xticks(range(0, len(precipitation.index), len(precipitation.index)//9), precipitation.index[::len(precipitation.index)//9], rotation=90)\n",
    "plt.show()\n"
   ]
  },
  {
   "cell_type": "code",
   "execution_count": null,
   "metadata": {},
   "outputs": [],
   "source": [
    "# Use Pandas to calculate the summary statistics for the precipitation data\n",
    "summary_statistics = precipitation['Precipitation'].describe()\n",
    "print(summary_statistics)"
   ]
  },
  {
   "cell_type": "markdown",
   "metadata": {},
   "source": [
    "# Exploratory Station Analysis"
   ]
  },
  {
   "cell_type": "code",
   "execution_count": null,
   "metadata": {},
   "outputs": [],
   "source": [
    "# Design a query to calculate the total number of stations in the dataset\n",
    "total_stations = session.query(Station.station).count()\n",
    "print(total_stations)"
   ]
  },
  {
   "cell_type": "code",
   "execution_count": null,
   "metadata": {},
   "outputs": [],
   "source": [
    "stations = session.query(Station.station).all()\n",
    "stations"
   ]
  },
  {
   "cell_type": "code",
   "execution_count": null,
   "metadata": {},
   "outputs": [],
   "source": [
    "# Design a query to find the most active stations (i.e. which stations have the most rows?)\n",
    "# List the stations and their counts in descending order.\n",
    "station_activity = session.query(Measurement.station, func.count(Measurement.station)).\\\n",
    "    group_by(Measurement.station).\\\n",
    "    order_by(func.count(Measurement.station).desc()).all()\n",
    "\n",
    "station_activity"
   ]
  },
  {
   "cell_type": "code",
   "execution_count": null,
   "metadata": {},
   "outputs": [],
   "source": [
    "# Using the most active station id from the previous query, calculate the lowest, highest, and average temperature.\n",
    "\n",
    "most_active_station_id = 'USC00519281'\n",
    "\n",
    "sel = [\n",
    "        func.min(Measurement.tobs),\n",
    "        func.max(Measurement.tobs),\n",
    "        func.avg(Measurement.tobs)]\n",
    "most_active_station_stats = session.query(*sel).\\\n",
    "        filter(Measurement.station == most_active_station_id).\\\n",
    "        all()\n",
    "#most_active_station_stats\n",
    "print(f'The lowest temperature for station {most_active_station_id} is ', most_active_station_stats[0][0])\n",
    "print(f'The highest temperature for station {most_active_station_id} is ', most_active_station_stats[0][1])\n",
    "print(f'The avg temperature for station {most_active_station_id} is ', most_active_station_stats[0][2])"
   ]
  },
  {
   "cell_type": "code",
   "execution_count": null,
   "metadata": {},
   "outputs": [],
   "source": [
    "# Using the most active station id\n",
    "# Query the last 12 months of temperature observation data for this station and plot the results as a histogram\n",
    "# Find the most recent date in the data set.\n",
    "recent_date = session.query(Measurement.date).\\\n",
    "filter(Measurement.station == most_active_station_id).\\\n",
    "order_by(Measurement.date.desc()).\\\n",
    "first()[0]\n",
    "\n",
    "recent_date\n"
   ]
  },
  {
   "cell_type": "code",
   "execution_count": null,
   "metadata": {},
   "outputs": [],
   "source": [
    "recent_date = dt.datetime.strptime(\"2017-08-18\", '%Y-%m-%d')\n",
    "last_12_months = recent_date - dt.timedelta(days=365)\n",
    "print(last_12_months)"
   ]
  },
  {
   "cell_type": "code",
   "execution_count": null,
   "metadata": {},
   "outputs": [],
   "source": [
    "last_12months_temps = session.query(Measurement.station, Measurement.tobs).\\\n",
    "filter(Measurement.station == most_active_station_id).\\\n",
    "filter(Measurement.date >= last_12_months).\\\n",
    "all()\n",
    "last_12months_temps\n",
    "\n"
   ]
  },
  {
   "cell_type": "code",
   "execution_count": null,
   "metadata": {},
   "outputs": [],
   "source": [
    "most_active_station_id = 'USC00519281'\n",
    "\n",
    "sel = [\n",
    "        func.min(Measurement.tobs),\n",
    "        func.max(Measurement.tobs),\n",
    "        func.avg(Measurement.tobs)]\n",
    "most_active_station_stats = session.query(*sel).\\\n",
    "        filter(Measurement.station == most_active_station_id).\\\n",
    "        all()\n",
    "\n",
    "recent_date = session.query(Measurement.date).\\\n",
    "filter(Measurement.station == most_active_station_id).\\\n",
    "order_by(Measurement.date.desc()).\\\n",
    "first()[0]\n",
    "\n",
    "recent_date = dt.datetime.strptime(\"2017-08-18\", '%Y-%m-%d')\n",
    "last_12_months = recent_date - dt.timedelta(days=365)\n",
    "\n",
    "last_12months_temps = session.query(Measurement.station, Measurement.tobs).\\\n",
    "filter(Measurement.station == most_active_station_id).\\\n",
    "filter(Measurement.date >= last_12_months).\\\n",
    "all()\n",
    "\n",
    "temperatures = [temp[1] for temp in last_12months_temps]\n",
    "\n",
    "plt.figure(figsize=(8,6))\n",
    "plt.hist(temperatures, bins=12, color='blue', edgecolor='black')\n",
    "plt.xlabel('Temperature (°F)')\n",
    "plt.ylabel('Frequency')\n",
    "plt.title('Temperature Observations in Past 12 Months')\n",
    "plt.grid(True)\n",
    "plt.show()"
   ]
  },
  {
   "cell_type": "markdown",
   "metadata": {},
   "source": [
    "# Close Session"
   ]
  },
  {
   "cell_type": "code",
   "execution_count": null,
   "metadata": {},
   "outputs": [],
   "source": [
    "# Close Session\n",
    "session.close()"
   ]
  },
  {
   "cell_type": "code",
   "execution_count": null,
   "metadata": {},
   "outputs": [],
   "source": []
  },
  {
   "cell_type": "code",
   "execution_count": null,
   "metadata": {},
   "outputs": [],
   "source": []
  }
 ],
 "metadata": {
  "anaconda-cloud": {},
  "kernel_info": {
   "name": "python3"
  },
  "kernelspec": {
   "display_name": "Python 3 (ipykernel)",
   "language": "python",
   "name": "python3"
  },
  "language_info": {
   "codemirror_mode": {
    "name": "ipython",
    "version": 3
   },
   "file_extension": ".py",
   "mimetype": "text/x-python",
   "name": "python",
   "nbconvert_exporter": "python",
   "pygments_lexer": "ipython3",
   "version": "3.11.5"
  },
  "nteract": {
   "version": "0.12.3"
  },
  "varInspector": {
   "cols": {
    "lenName": 16,
    "lenType": 16,
    "lenVar": 40
   },
   "kernels_config": {
    "python": {
     "delete_cmd_postfix": "",
     "delete_cmd_prefix": "del ",
     "library": "var_list.py",
     "varRefreshCmd": "print(var_dic_list())"
    },
    "r": {
     "delete_cmd_postfix": ") ",
     "delete_cmd_prefix": "rm(",
     "library": "var_list.r",
     "varRefreshCmd": "cat(var_dic_list()) "
    }
   },
   "types_to_exclude": [
    "module",
    "function",
    "builtin_function_or_method",
    "instance",
    "_Feature"
   ],
   "window_display": false
  }
 },
 "nbformat": 4,
 "nbformat_minor": 2
}
